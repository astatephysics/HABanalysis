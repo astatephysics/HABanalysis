{
 "cells": [
  {
   "cell_type": "markdown",
   "metadata": {},
   "source": [
    "Balloon Flight Analysis Tool\n",
    "\n",
    "The goal is for a bulk analysis of data from Arkansas BalloonSAT missions.\n",
    "\n",
    "\n"
   ]
  },
  {
   "cell_type": "code",
   "execution_count": 1,
   "metadata": {
    "collapsed": true,
    "slideshow": {
     "slide_type": "-"
    }
   },
   "outputs": [],
   "source": [
    "import sys\n",
    "import os\n",
    "import pathlib\n",
    "import glob\n",
    "import xml.dom.minidom as md\n",
    "from pathlib import Path\n",
    "import kml2geojson as kg\n",
    "import json\n",
    "import geojson\n",
    "from folium import plugins\n",
    "from folium.plugins import HeatMap\n",
    "import numpy as np\n",
    "from datetime import datetime, timedelta, time\n",
    "import statistics\n",
    "import matplotlib.pyplot as plt\n",
    "import datetime\n",
    "import time\n",
    "import pandas as pd\n",
    "from geopy.distance import geodesic\n",
    "import math\n",
    "import csv\n"
   ]
  },
  {
   "cell_type": "code",
   "execution_count": null,
   "metadata": {
    "collapsed": true
   },
   "outputs": [],
   "source": [
    "\n"
   ]
  },
  {
   "cell_type": "markdown",
   "metadata": {},
   "source": [
    "Open a CSV file containing the raw Anasonde data from a mission.\n",
    "End goal is to make this a module that can iterate through all mission files in a common directory"
   ]
  },
  {
   "cell_type": "code",
   "execution_count": null,
   "metadata": {
    "collapsed": true,
    "scrolled": true
   },
   "outputs": [],
   "source": []
  },
  {
   "cell_type": "code",
   "execution_count": 2,
   "metadata": {
    "collapsed": true
   },
   "outputs": [],
   "source": [
    "def openCSV(missionID):\n",
    "    event = []\n",
    "    with open('./data/anasonde/abs%d.csv' % missionID, 'r') as f:\n",
    "        reader = csv.reader(f)\n",
    "        data = list(reader)\n",
    "\n",
    "    for x in range(len(data)):\n",
    "        if x == 0:\n",
    "            a = 1 #ignore first line.  there's a more elegant way of doing this but I'm tired...\n",
    "        elif data[x][5].find(\"#\") != -1:\n",
    "            a = 1\n",
    "        else:\n",
    "            update = [data[x][5],data[x][6],data[x][7], data[x][8],data[x][13], data[x][14],data[x][15],data[x][17], data[x][18]]\n",
    "            #this strips relevant data from anasonde file. local time, longitude, latitude, gps altitude, pressure, temperature, humidity\n",
    "            event.append(update)\n",
    "    return event"
   ]
  },
  {
   "cell_type": "markdown",
   "metadata": {},
   "source": [
    "A set of useful functions for processing raw data.  Calculate elapsed times, convert pressure to altitude, and determine bearings."
   ]
  },
  {
   "cell_type": "code",
   "execution_count": 3,
   "metadata": {
    "collapsed": true
   },
   "outputs": [],
   "source": [
    "def delta_time(t1, t2):\n",
    "    FMT = '%H:%M:%S'\n",
    "    deltat = datetime.datetime.strptime(t2, FMT) - datetime.datetime.strptime(t1, FMT)\n",
    "    deltat = deltat.total_seconds()\n",
    "    #print(deltat)\n",
    "    return deltat"
   ]
  },
  {
   "cell_type": "code",
   "execution_count": 4,
   "metadata": {
    "collapsed": true
   },
   "outputs": [],
   "source": [
    "def alt_press(pressure, sealevel):\n",
    "    altitude = 44330 * (1.0 - pow(float(pressure)/float(sealevel), 0.1903))\n",
    "    return altitude\n",
    "    "
   ]
  },
  {
   "cell_type": "code",
   "execution_count": 5,
   "metadata": {
    "collapsed": true
   },
   "outputs": [],
   "source": [
    "def heading(lat1, lon1, lat2, lon2):\n",
    "    delLat = math.radians(lat2 - lat1)\n",
    "    delLon = math.radians(lon2 - lon1)\n",
    "    \n",
    "    y = math.sin(delLon) * math.cos(math.radians(lat2))\n",
    "    x = math.cos(math.radians(lat1)) * math.sin(math.radians(lat2)) - \\\n",
    "        math.sin(math.radians(lat1)) * \\\n",
    "        math.cos(math.radians(lat2)) * math.cos(delLat)\n",
    "    # returns the bearing from true north\n",
    "    tempBearing = math.degrees(math.atan2(y, x))\n",
    "    while tempBearing < 0:\t\t# Makes sure the bearing is between 0 and 360\n",
    "        tempBearing += 360\n",
    "    while tempBearing > 360:\n",
    "        tempBearing -= 360\n",
    "    return tempBearing\n",
    "    "
   ]
  },
  {
   "cell_type": "markdown",
   "metadata": {},
   "source": []
  },
  {
   "cell_type": "code",
   "execution_count": 6,
   "metadata": {
    "collapsed": true,
    "scrolled": true
   },
   "outputs": [],
   "source": [
    "def processData(event):\n",
    "    alt_corr = []\n",
    "    horz_speed = []\n",
    "    distance = []\n",
    "    ascent = []\n",
    "    descent = []\n",
    "    direction = []\n",
    "    datapool = []\n",
    "    bearings = []\n",
    "    altitude = []\n",
    "\n",
    "    for x in range(len(event)-1):\n",
    "\n",
    "\n",
    "        elapsed_time = delta_time(event[x][0],event[x+1][0])\n",
    "        start_point = (event[x][1],event[x][2])\n",
    "        end_point = (event[x+1][1],event[x+1][2])\n",
    "        distance.append(geodesic(start_point,end_point).meters)\n",
    "        if elapsed_time != 0:\n",
    "            horz_speed.append(distance[x] / elapsed_time)\n",
    "        else:\n",
    "            horz_speed.append(0)\n",
    "        direction.append(heading(float(event[x][1]),float(event[x][2]),float(event[x+1][1]),float(event[x+1][2])))\n",
    "        land = end_point\n",
    "        if x == 0:\n",
    "            lon1 = float(event[x][2])\n",
    "            lat1 = float(event[x][1])\n",
    "            launch = (lat1, lon1)\n",
    "\n",
    "        #print(event[x][3])\n",
    "        lon2 = float(event[x][2])\n",
    "        lat2 = float(event[x][1])\n",
    "        bearings.append(heading(lat1,lon1, lat2, lon2))\n",
    "        sheight = alt_press(event[x][4], '1023')\n",
    "        eheight = alt_press(event[x+1][4],'1023')\n",
    "        rise = eheight - sheight\n",
    "        if rise > 0:\n",
    "            if elapsed_time != 0:\n",
    "                ascent.append(rise/elapsed_time)\n",
    "            else:\n",
    "                ascent.append(0)\n",
    "        else:\n",
    "            if elapsed_time != 0:\n",
    "                descent.append(rise/elapsed_time)\n",
    "            else:\n",
    "                descent.append(0)\n",
    "        alt_corr.append(sheight)\n",
    "        if elapsed_time != 0:\n",
    "            rise_rate = rise / elapsed_time\n",
    "        else:\n",
    "            rise_rate = 0\n",
    "        \n",
    "        altitude.append(float(event[x][3]))\n",
    "                \n",
    "        proc_data = [missionID, event[x][0], float(event[x][1]), float(event[x][2]), float(event[x][3]), float(event[x][4]), float(event[x][5]), event[x][6], event[x][7], alt_corr[x], rise_rate, horz_speed[x], direction[x], event[x][8]]\n",
    "        datapool.append(proc_data)\n",
    "    mission_ids.append(missionID)\n",
    "        #print(rise)\n",
    "    #datapool.insert(0,labels)\n",
    "    #print(datapool)\n",
    "    ID.append(missionID)\n",
    "    tot_dist = geodesic(launch, land).meters\n",
    "    tot_bear = heading( lat1, lon1, lat2, lon2)\n",
    "    mission_dist.append(tot_dist)\n",
    "    mission_bear.append(tot_bear)\n",
    "    #print('ABS Mission %d' % missionID)\n",
    "    #print('Distance to landing point: %.f' % tot_dist + ' meters')\n",
    "    #print('Heading to landing point: %.2f' % tot_bear + ' Degrees')\n",
    "    max_alt = max(altitude)\n",
    "    mission_alt.append(max_alt)\n",
    "    #print('Maximum Altitude: %.2f' % max_alt + ' meters \\n')\n",
    "    mean_ascent.append(statistics.mean(ascent))\n",
    "    mean_descent.append(statistics.mean(descent))\n",
    "    writeExcel(missionID, datapool, ascent, descent)\n",
    "    createKML(missionID, event)"
   ]
  },
  {
   "cell_type": "code",
   "execution_count": 7,
   "metadata": {
    "collapsed": true
   },
   "outputs": [],
   "source": [
    "def createKML(missionID, event):\n",
    "    kmlPath = []\n",
    "\n",
    "\n",
    "    kmlPath = [\n",
    "        '<kml><Document><name>Arkansas BalloonSAT Mission %d</name><Style id=\"stratoLine\">\\n<LineStyle>\\n<width>1.0</width>\\n</LineStyle>\\n</Style>\\n<Placemark>\\n<name>Simulation</name>\\n<styleUrl>#stratoLine</styleUrl>\\n<LineString>\\n<coordinates>\\n' % (\n",
    "            missionID)]\n",
    "\n",
    "\n",
    "    for x in range(len(event)-1):\n",
    "        #altitude = alt_press(event[x][3], '1023')\n",
    "        kmlPath.append('%s,%s,%s\\n' % (event[x][2], event[x][1], event[x][3]) )\n",
    "\n",
    "\n",
    "    kmlPath.append(\n",
    "        '</coordinates>\\n<altitudeMode>absolute</altitudeMode>\\n</LineString>\\n</Placemark>\\n</Document>\\n</kml>')\n",
    "\n",
    "    kmlFile = \"\".join(kmlPath)\n",
    "    with open('results/abs%d.kml' % missionID, 'w') as file:\n",
    "        file.write(kmlFile)"
   ]
  },
  {
   "cell_type": "code",
   "execution_count": 8,
   "metadata": {
    "collapsed": true
   },
   "outputs": [],
   "source": [
    "def writeExcel(missionID, datapool, ascent, descent):\n",
    "    \n",
    "    n_bins = 30\n",
    "    labels = ['Mission ID','Local Time','Longitude','Latitude', 'Altitude','Pressure','Temperature','Temperature', 'Humidity', 'Altitude', 'Vertical velocity','Horizontal Velocity', 'Horizontal Direction', 'Counts']\n",
    "\n",
    "    df = pd.DataFrame(datapool, columns=labels)\n",
    "\n",
    "    fig, axs = plt.subplots()\n",
    "\n",
    "    n1, bins1, patches1 = axs.hist(ascent, bins=n_bins)\n",
    "    n2, bins2, patches2 = axs.hist(descent, bins=n_bins)\n",
    "\n",
    "    df2 = pd.DataFrame([bins1, n1, bins2, n2], index=['ascent', 'counts', 'descent', 'counts'])\n",
    "\n",
    "    # Create a Pandas Excel writer using XlsxWriter as the engine.\n",
    "    writer = pd.ExcelWriter('results/data_abs%d.xlsx' % missionID, engine='xlsxwriter')\n",
    "\n",
    "    # Convert the dataframe to an XlsxWriter Excel object.\n",
    "    df.to_excel(writer, sheet_name='data')\n",
    "    df2.T.to_excel(writer, sheet_name='velocity')\n",
    "    \n",
    "    # Close the Pandas Excel writer and output the Excel file.\n",
    "    writer.save()"
   ]
  },
  {
   "cell_type": "code",
   "execution_count": 9,
   "metadata": {
    "collapsed": true
   },
   "outputs": [],
   "source": [
    "def missionData():\n",
    "    writer = pd.ExcelWriter('results/abs-missions.xlsx', engine='xlsxwriter')\n",
    "    mission_df = pd.DataFrame([mission_ids, mission_bear, mission_dist, mission_alt, mean_ascent, mean_descent], index=['Mission ID', 'Bearing', 'Distance', 'Max Altitude', 'Ascent Speed', 'Descent Speed'])\n",
    "    mission_df.T.to_excel(writer, sheet_name='highlights')\n",
    "    writer.save()"
   ]
  },
  {
   "cell_type": "markdown",
   "metadata": {},
   "source": [
    "Initialize arrays & constants"
   ]
  },
  {
   "cell_type": "code",
   "execution_count": 10,
   "metadata": {
    "collapsed": true
   },
   "outputs": [],
   "source": [
    "mission_dist = []\n",
    "mission_bear = []\n",
    "mission_alt = []\n",
    "mission_ids = []\n",
    "ID = []\n",
    "mean_ascent = []\n",
    "mean_descent = []"
   ]
  },
  {
   "cell_type": "markdown",
   "metadata": {},
   "source": [
    "each file in anasonde data folder is extracted, processed, and compiled into additional files.  This generates spreadsheets of processed data, Google Earth files of flight paths, and a collection of results from each mission."
   ]
  },
  {
   "cell_type": "code",
   "execution_count": 11,
   "metadata": {
    "collapsed": true,
    "scrolled": true
   },
   "outputs": [],
   "source": [
    "for files in glob.glob('data/anasonde/*'):\n",
    "    missionID = int(files[17:-4])  ## this is really f'n precarious. changing filenames will mess this up completely\n",
    "    processData(openCSV(missionID))\n",
    "    #writeExcel(missionID, processData(openCSV(missionID)))\n",
    "    \n",
    "missionData()"
   ]
  },
  {
   "cell_type": "markdown",
   "metadata": {
    "collapsed": true
   },
   "source": [
    "\n"
   ]
  },
  {
   "cell_type": "code",
   "execution_count": null,
   "metadata": {
    "collapsed": true
   },
   "outputs": [],
   "source": []
  },
  {
   "cell_type": "code",
   "execution_count": null,
   "metadata": {
    "collapsed": true
   },
   "outputs": [],
   "source": []
  }
 ],
 "metadata": {
  "kernelspec": {
   "display_name": "Python 3",
   "language": "python",
   "name": "python3"
  },
  "language_info": {
   "codemirror_mode": {
    "name": "ipython",
    "version": 3
   },
   "file_extension": ".py",
   "mimetype": "text/x-python",
   "name": "python",
   "nbconvert_exporter": "python",
   "pygments_lexer": "ipython3",
   "version": "3.6.3"
  }
 },
 "nbformat": 4,
 "nbformat_minor": 2
}
