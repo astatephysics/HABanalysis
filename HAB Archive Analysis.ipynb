{
 "cells": [
  {
   "cell_type": "code",
   "execution_count": 1,
   "metadata": {},
   "outputs": [],
   "source": [
    "from habarchive import *"
   ]
  },
  {
   "cell_type": "code",
   "execution_count": null,
   "metadata": {
    "collapsed": true
   },
   "outputs": [],
   "source": []
  },
  {
   "cell_type": "code",
   "execution_count": 2,
   "metadata": {},
   "outputs": [
    {
     "name": "stdout",
     "output_type": "stream",
     "text": [
      "(array([2.30389811e+00, 7.77722404e+03]), array([[5.16640556e-03, 7.67826012e+00],\n",
      "       [7.67826012e+00, 1.36245425e+04]]))\n",
      "(array([2.12792541e+00, 8.39098446e+03]), array([[1.57949966e-02, 2.92187184e+01],\n",
      "       [2.92187184e+01, 6.51119876e+04]]))\n",
      "(array([2.17676435e+00, 8.02339936e+03]), array([[6.29962535e-03, 1.13695005e+01],\n",
      "       [1.13695005e+01, 2.39237308e+04]]))\n",
      "(array([1.26474696e+00, 6.34911693e+03]), array([[1.81660277e-02, 3.15268239e+01],\n",
      "       [3.15268239e+01, 6.37719338e+04]]))\n",
      "(array([3.08359618e+00, 1.37256221e+04]), array([[3.06480678e-01, 9.48755341e+02],\n",
      "       [9.48755341e+02, 3.73380430e+06]]))\n",
      "(array([1.80715733e+00, 7.93408951e+03]), array([[5.47163929e-02, 9.43088452e+01],\n",
      "       [9.43088452e+01, 1.85851815e+05]]))\n",
      "(array([2.42126868e+00, 8.48735121e+03]), array([[2.34114589e-02, 4.70822529e+01],\n",
      "       [4.70822529e+01, 1.15663658e+05]]))\n",
      "(array([1.85306853e+00, 7.77533090e+03]), array([[7.03021181e-03, 1.29029516e+01],\n",
      "       [1.29029516e+01, 2.82409074e+04]]))\n",
      "(array([1.82200061e+00, 7.79545107e+03]), array([[2.24983213e-02, 4.06476374e+01],\n",
      "       [4.06476374e+01, 8.74682196e+04]]))\n",
      "(array([1.79063416e+00, 7.67931945e+03]), array([[1.67768115e-02, 2.82653505e+01],\n",
      "       [2.82653505e+01, 5.63865092e+04]]))\n",
      "(array([2.1427261e+00, 8.1390573e+03]), array([[1.77630709e-02, 2.93229926e+01],\n",
      "       [2.93229926e+01, 5.77951155e+04]]))\n",
      "(array([1.88141631e+00, 7.32167453e+03]), array([[1.26959539e-03, 1.89403578e+00],\n",
      "       [1.89403578e+00, 3.32605280e+03]]))\n",
      "(array([1.34649830e+00, 7.19467311e+03]), array([[3.20562709e-03, 6.83622874e+00],\n",
      "       [6.83622874e+00, 1.72354995e+04]]))\n",
      "(array([2.07662478e+00, 8.22894774e+03]), array([[1.46207376e-02, 2.53484924e+01],\n",
      "       [2.53484924e+01, 5.17797955e+04]]))\n",
      "(array([1.82742736e+00, 7.32782769e+03]), array([[1.15343735e-03, 2.03020040e+00],\n",
      "       [2.03020040e+00, 4.25365991e+03]]))\n",
      "(array([1.51402549e+00, 7.28771682e+03]), array([[5.62625234e-03, 9.64740784e+00],\n",
      "       [9.64740784e+00, 1.93154410e+04]]))\n",
      "(array([1.48101473e+00, 6.92642739e+03]), array([[3.52197293e-03, 5.50332889e+00],\n",
      "       [5.50332889e+00, 9.97712580e+03]]))\n",
      "(array([1.13680454e+00, 6.21708264e+03]), array([[1.14002947e-02, 2.15797941e+01],\n",
      "       [2.15797941e+01, 4.64318227e+04]]))\n",
      "(array([1.60964400e+00, 7.49505187e+03]), array([[2.14607926e-03, 3.76852445e+00],\n",
      "       [3.76852445e+00, 7.73641197e+03]]))\n",
      "(array([1.52978157e+00, 8.39033885e+03]), array([[1.00208741e-02, 2.62069658e+01],\n",
      "       [2.62069658e+01, 8.24434007e+04]]))\n",
      "(array([2.37648187e+00, 1.23917355e+04]), array([[1.85804064e-01, 6.57902909e+02],\n",
      "       [6.57902909e+02, 2.96378666e+06]]))\n",
      "(array([2.56427645e+00, 1.47447800e+04]), array([[1.36064235e-01, 6.05519612e+02],\n",
      "       [6.05519612e+02, 3.40116107e+06]]))\n"
     ]
    }
   ],
   "source": [
    "for files in glob.glob('data/anasonde/*'):\n",
    "    missionID = int(files[17:-4])  ## this is really f'n precarious. changing filenames will mess this up completely\n",
    "    sealvlpress = missionInit(missionID)\n",
    "    processData(openCSV(missionID), missionID, sealvlpress)\n",
    "    #writeExcel(missionID, processData(openCSV(missionID)))\n",
    "    \n",
    "missionData()"
   ]
  },
  {
   "cell_type": "code",
   "execution_count": null,
   "metadata": {
    "collapsed": true
   },
   "outputs": [],
   "source": []
  },
  {
   "cell_type": "code",
   "execution_count": null,
   "metadata": {},
   "outputs": [],
   "source": []
  },
  {
   "cell_type": "code",
   "execution_count": null,
   "metadata": {
    "collapsed": true
   },
   "outputs": [],
   "source": []
  }
 ],
 "metadata": {
  "kernelspec": {
   "display_name": "Python 3",
   "language": "python",
   "name": "python3"
  },
  "language_info": {
   "codemirror_mode": {
    "name": "ipython",
    "version": 3
   },
   "file_extension": ".py",
   "mimetype": "text/x-python",
   "name": "python",
   "nbconvert_exporter": "python",
   "pygments_lexer": "ipython3",
   "version": "3.6.3"
  }
 },
 "nbformat": 4,
 "nbformat_minor": 2
}
